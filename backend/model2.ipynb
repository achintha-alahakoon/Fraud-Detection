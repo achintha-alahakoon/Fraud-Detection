{
 "cells": [
  {
   "cell_type": "code",
   "execution_count": 1,
   "id": "d64ff535",
   "metadata": {},
   "outputs": [],
   "source": [
    "import numpy as np\n",
    "import pandas as pd\n",
    "import matplotlib.pyplot as plt\n",
    "import seaborn as sns\n",
    "import sklearn "
   ]
  },
  {
   "cell_type": "code",
   "execution_count": 2,
   "id": "35abe158",
   "metadata": {},
   "outputs": [],
   "source": [
    "import warnings\n",
    "warnings.filterwarnings(\"ignore\")\n",
    "sns.set(style=\"whitegrid\")"
   ]
  },
  {
   "cell_type": "code",
   "execution_count": 3,
   "id": "6ae5002e",
   "metadata": {},
   "outputs": [],
   "source": [
    "df = pd.read_csv('../click_fraud_dataset.csv')"
   ]
  },
  {
   "cell_type": "code",
   "execution_count": 4,
   "id": "846cefa6",
   "metadata": {},
   "outputs": [
    {
     "data": {
      "text/html": [
       "<div>\n",
       "<style scoped>\n",
       "    .dataframe tbody tr th:only-of-type {\n",
       "        vertical-align: middle;\n",
       "    }\n",
       "\n",
       "    .dataframe tbody tr th {\n",
       "        vertical-align: top;\n",
       "    }\n",
       "\n",
       "    .dataframe thead th {\n",
       "        text-align: right;\n",
       "    }\n",
       "</style>\n",
       "<table border=\"1\" class=\"dataframe\">\n",
       "  <thead>\n",
       "    <tr style=\"text-align: right;\">\n",
       "      <th></th>\n",
       "      <th>click_id</th>\n",
       "      <th>timestamp</th>\n",
       "      <th>user_id</th>\n",
       "      <th>ip_address</th>\n",
       "      <th>device_type</th>\n",
       "      <th>browser</th>\n",
       "      <th>operating_system</th>\n",
       "      <th>referrer_url</th>\n",
       "      <th>page_url</th>\n",
       "      <th>click_duration</th>\n",
       "      <th>...</th>\n",
       "      <th>mouse_movement</th>\n",
       "      <th>keystrokes_detected</th>\n",
       "      <th>ad_position</th>\n",
       "      <th>click_frequency</th>\n",
       "      <th>time_since_last_click</th>\n",
       "      <th>device_ip_reputation</th>\n",
       "      <th>VPN_usage</th>\n",
       "      <th>proxy_usage</th>\n",
       "      <th>bot_likelihood_score</th>\n",
       "      <th>is_fraudulent</th>\n",
       "    </tr>\n",
       "  </thead>\n",
       "  <tbody>\n",
       "    <tr>\n",
       "      <th>0</th>\n",
       "      <td>d875835d-3a4a-4a20-b0d1-6cddf89afc6a</td>\n",
       "      <td>2024-08-23 02:47:39</td>\n",
       "      <td>65a2f621-707b-49be-9c3e-ccac0b1d89ef</td>\n",
       "      <td>141.36.49.37</td>\n",
       "      <td>Tablet</td>\n",
       "      <td>Safari</td>\n",
       "      <td>Android</td>\n",
       "      <td>https://evans-ford.com/</td>\n",
       "      <td>http://www.turner-stewart.com/</td>\n",
       "      <td>0.29</td>\n",
       "      <td>...</td>\n",
       "      <td>111</td>\n",
       "      <td>8</td>\n",
       "      <td>Bottom</td>\n",
       "      <td>7</td>\n",
       "      <td>72</td>\n",
       "      <td>Good</td>\n",
       "      <td>0</td>\n",
       "      <td>1</td>\n",
       "      <td>0.29</td>\n",
       "      <td>0</td>\n",
       "    </tr>\n",
       "    <tr>\n",
       "      <th>1</th>\n",
       "      <td>a2d3f028-7790-4be1-9f75-df1357edbbdb</td>\n",
       "      <td>2025-01-30 23:23:50</td>\n",
       "      <td>135e0114-76c5-43ea-bdef-80ab537dc009</td>\n",
       "      <td>216.29.19.201</td>\n",
       "      <td>Desktop</td>\n",
       "      <td>Opera</td>\n",
       "      <td>iOS</td>\n",
       "      <td>https://pierce-ferguson.net/</td>\n",
       "      <td>http://www.rodriguez.biz/</td>\n",
       "      <td>0.64</td>\n",
       "      <td>...</td>\n",
       "      <td>452</td>\n",
       "      <td>29</td>\n",
       "      <td>Bottom</td>\n",
       "      <td>9</td>\n",
       "      <td>201</td>\n",
       "      <td>Suspicious</td>\n",
       "      <td>0</td>\n",
       "      <td>0</td>\n",
       "      <td>0.74</td>\n",
       "      <td>0</td>\n",
       "    </tr>\n",
       "    <tr>\n",
       "      <th>2</th>\n",
       "      <td>36d787b2-fbce-43ef-8c02-7c8746d7e3db</td>\n",
       "      <td>2025-01-21 05:41:12</td>\n",
       "      <td>a6922984-78cb-4c01-9c88-bfe3a13a0aaf</td>\n",
       "      <td>167.133.41.231</td>\n",
       "      <td>Tablet</td>\n",
       "      <td>Safari</td>\n",
       "      <td>Linux</td>\n",
       "      <td>https://www.martinez.com/</td>\n",
       "      <td>https://beck.biz/</td>\n",
       "      <td>0.42</td>\n",
       "      <td>...</td>\n",
       "      <td>431</td>\n",
       "      <td>18</td>\n",
       "      <td>Bottom</td>\n",
       "      <td>9</td>\n",
       "      <td>326</td>\n",
       "      <td>Good</td>\n",
       "      <td>0</td>\n",
       "      <td>1</td>\n",
       "      <td>0.14</td>\n",
       "      <td>0</td>\n",
       "    </tr>\n",
       "    <tr>\n",
       "      <th>3</th>\n",
       "      <td>01fc0078-096b-4f90-82ae-aa8085b719ac</td>\n",
       "      <td>2024-10-12 08:18:14</td>\n",
       "      <td>d30788b2-4048-4770-a4b1-a9358788818f</td>\n",
       "      <td>216.146.33.78</td>\n",
       "      <td>Tablet</td>\n",
       "      <td>Edge</td>\n",
       "      <td>macOS</td>\n",
       "      <td>https://jones-mendoza.com/</td>\n",
       "      <td>https://www.alvarado.com/</td>\n",
       "      <td>4.29</td>\n",
       "      <td>...</td>\n",
       "      <td>472</td>\n",
       "      <td>37</td>\n",
       "      <td>Side</td>\n",
       "      <td>4</td>\n",
       "      <td>33</td>\n",
       "      <td>Suspicious</td>\n",
       "      <td>0</td>\n",
       "      <td>0</td>\n",
       "      <td>0.65</td>\n",
       "      <td>0</td>\n",
       "    </tr>\n",
       "    <tr>\n",
       "      <th>4</th>\n",
       "      <td>0afdf2af-0b48-47d5-bfb6-e087053e1eb9</td>\n",
       "      <td>2024-04-19 14:44:35</td>\n",
       "      <td>dfc42287-6325-4344-b373-b8e61ea6e5c1</td>\n",
       "      <td>146.37.54.245</td>\n",
       "      <td>Desktop</td>\n",
       "      <td>Opera</td>\n",
       "      <td>Windows</td>\n",
       "      <td>https://www.griffith-holloway.com/</td>\n",
       "      <td>http://gonzalez.com/</td>\n",
       "      <td>2.46</td>\n",
       "      <td>...</td>\n",
       "      <td>50</td>\n",
       "      <td>2</td>\n",
       "      <td>Side</td>\n",
       "      <td>7</td>\n",
       "      <td>97</td>\n",
       "      <td>Good</td>\n",
       "      <td>0</td>\n",
       "      <td>0</td>\n",
       "      <td>0.06</td>\n",
       "      <td>0</td>\n",
       "    </tr>\n",
       "  </tbody>\n",
       "</table>\n",
       "<p>5 rows × 21 columns</p>\n",
       "</div>"
      ],
      "text/plain": [
       "                               click_id            timestamp  \\\n",
       "0  d875835d-3a4a-4a20-b0d1-6cddf89afc6a  2024-08-23 02:47:39   \n",
       "1  a2d3f028-7790-4be1-9f75-df1357edbbdb  2025-01-30 23:23:50   \n",
       "2  36d787b2-fbce-43ef-8c02-7c8746d7e3db  2025-01-21 05:41:12   \n",
       "3  01fc0078-096b-4f90-82ae-aa8085b719ac  2024-10-12 08:18:14   \n",
       "4  0afdf2af-0b48-47d5-bfb6-e087053e1eb9  2024-04-19 14:44:35   \n",
       "\n",
       "                                user_id      ip_address device_type browser  \\\n",
       "0  65a2f621-707b-49be-9c3e-ccac0b1d89ef    141.36.49.37      Tablet  Safari   \n",
       "1  135e0114-76c5-43ea-bdef-80ab537dc009   216.29.19.201     Desktop   Opera   \n",
       "2  a6922984-78cb-4c01-9c88-bfe3a13a0aaf  167.133.41.231      Tablet  Safari   \n",
       "3  d30788b2-4048-4770-a4b1-a9358788818f   216.146.33.78      Tablet    Edge   \n",
       "4  dfc42287-6325-4344-b373-b8e61ea6e5c1   146.37.54.245     Desktop   Opera   \n",
       "\n",
       "  operating_system                        referrer_url  \\\n",
       "0          Android             https://evans-ford.com/   \n",
       "1              iOS        https://pierce-ferguson.net/   \n",
       "2            Linux           https://www.martinez.com/   \n",
       "3            macOS          https://jones-mendoza.com/   \n",
       "4          Windows  https://www.griffith-holloway.com/   \n",
       "\n",
       "                         page_url  click_duration  ...  mouse_movement  \\\n",
       "0  http://www.turner-stewart.com/            0.29  ...             111   \n",
       "1       http://www.rodriguez.biz/            0.64  ...             452   \n",
       "2               https://beck.biz/            0.42  ...             431   \n",
       "3       https://www.alvarado.com/            4.29  ...             472   \n",
       "4            http://gonzalez.com/            2.46  ...              50   \n",
       "\n",
       "   keystrokes_detected  ad_position click_frequency  time_since_last_click  \\\n",
       "0                    8       Bottom               7                     72   \n",
       "1                   29       Bottom               9                    201   \n",
       "2                   18       Bottom               9                    326   \n",
       "3                   37         Side               4                     33   \n",
       "4                    2         Side               7                     97   \n",
       "\n",
       "   device_ip_reputation VPN_usage  proxy_usage  bot_likelihood_score  \\\n",
       "0                  Good         0            1                  0.29   \n",
       "1            Suspicious         0            0                  0.74   \n",
       "2                  Good         0            1                  0.14   \n",
       "3            Suspicious         0            0                  0.65   \n",
       "4                  Good         0            0                  0.06   \n",
       "\n",
       "   is_fraudulent  \n",
       "0              0  \n",
       "1              0  \n",
       "2              0  \n",
       "3              0  \n",
       "4              0  \n",
       "\n",
       "[5 rows x 21 columns]"
      ]
     },
     "execution_count": 4,
     "metadata": {},
     "output_type": "execute_result"
    }
   ],
   "source": [
    "df.head()"
   ]
  },
  {
   "cell_type": "code",
   "execution_count": 6,
   "id": "7e579de4",
   "metadata": {},
   "outputs": [
    {
     "data": {
      "text/plain": [
       "(5000, 15)"
      ]
     },
     "execution_count": 6,
     "metadata": {},
     "output_type": "execute_result"
    }
   ],
   "source": [
    "df.shape"
   ]
  },
  {
   "cell_type": "markdown",
   "id": "2b5be625",
   "metadata": {},
   "source": [
    "Drop irrelevant columns"
   ]
  },
  {
   "cell_type": "code",
   "execution_count": 5,
   "id": "5896fcfc",
   "metadata": {},
   "outputs": [
    {
     "data": {
      "text/html": [
       "<div>\n",
       "<style scoped>\n",
       "    .dataframe tbody tr th:only-of-type {\n",
       "        vertical-align: middle;\n",
       "    }\n",
       "\n",
       "    .dataframe tbody tr th {\n",
       "        vertical-align: top;\n",
       "    }\n",
       "\n",
       "    .dataframe thead th {\n",
       "        text-align: right;\n",
       "    }\n",
       "</style>\n",
       "<table border=\"1\" class=\"dataframe\">\n",
       "  <thead>\n",
       "    <tr style=\"text-align: right;\">\n",
       "      <th></th>\n",
       "      <th>ip_address</th>\n",
       "      <th>device_type</th>\n",
       "      <th>browser</th>\n",
       "      <th>operating_system</th>\n",
       "      <th>click_duration</th>\n",
       "      <th>scroll_depth</th>\n",
       "      <th>mouse_movement</th>\n",
       "      <th>keystrokes_detected</th>\n",
       "      <th>click_frequency</th>\n",
       "      <th>time_since_last_click</th>\n",
       "      <th>device_ip_reputation</th>\n",
       "      <th>VPN_usage</th>\n",
       "      <th>proxy_usage</th>\n",
       "      <th>bot_likelihood_score</th>\n",
       "      <th>is_fraudulent</th>\n",
       "    </tr>\n",
       "  </thead>\n",
       "  <tbody>\n",
       "    <tr>\n",
       "      <th>0</th>\n",
       "      <td>141.36.49.37</td>\n",
       "      <td>Tablet</td>\n",
       "      <td>Safari</td>\n",
       "      <td>Android</td>\n",
       "      <td>0.29</td>\n",
       "      <td>60</td>\n",
       "      <td>111</td>\n",
       "      <td>8</td>\n",
       "      <td>7</td>\n",
       "      <td>72</td>\n",
       "      <td>Good</td>\n",
       "      <td>0</td>\n",
       "      <td>1</td>\n",
       "      <td>0.29</td>\n",
       "      <td>0</td>\n",
       "    </tr>\n",
       "    <tr>\n",
       "      <th>1</th>\n",
       "      <td>216.29.19.201</td>\n",
       "      <td>Desktop</td>\n",
       "      <td>Opera</td>\n",
       "      <td>iOS</td>\n",
       "      <td>0.64</td>\n",
       "      <td>25</td>\n",
       "      <td>452</td>\n",
       "      <td>29</td>\n",
       "      <td>9</td>\n",
       "      <td>201</td>\n",
       "      <td>Suspicious</td>\n",
       "      <td>0</td>\n",
       "      <td>0</td>\n",
       "      <td>0.74</td>\n",
       "      <td>0</td>\n",
       "    </tr>\n",
       "    <tr>\n",
       "      <th>2</th>\n",
       "      <td>167.133.41.231</td>\n",
       "      <td>Tablet</td>\n",
       "      <td>Safari</td>\n",
       "      <td>Linux</td>\n",
       "      <td>0.42</td>\n",
       "      <td>36</td>\n",
       "      <td>431</td>\n",
       "      <td>18</td>\n",
       "      <td>9</td>\n",
       "      <td>326</td>\n",
       "      <td>Good</td>\n",
       "      <td>0</td>\n",
       "      <td>1</td>\n",
       "      <td>0.14</td>\n",
       "      <td>0</td>\n",
       "    </tr>\n",
       "    <tr>\n",
       "      <th>3</th>\n",
       "      <td>216.146.33.78</td>\n",
       "      <td>Tablet</td>\n",
       "      <td>Edge</td>\n",
       "      <td>macOS</td>\n",
       "      <td>4.29</td>\n",
       "      <td>29</td>\n",
       "      <td>472</td>\n",
       "      <td>37</td>\n",
       "      <td>4</td>\n",
       "      <td>33</td>\n",
       "      <td>Suspicious</td>\n",
       "      <td>0</td>\n",
       "      <td>0</td>\n",
       "      <td>0.65</td>\n",
       "      <td>0</td>\n",
       "    </tr>\n",
       "    <tr>\n",
       "      <th>4</th>\n",
       "      <td>146.37.54.245</td>\n",
       "      <td>Desktop</td>\n",
       "      <td>Opera</td>\n",
       "      <td>Windows</td>\n",
       "      <td>2.46</td>\n",
       "      <td>94</td>\n",
       "      <td>50</td>\n",
       "      <td>2</td>\n",
       "      <td>7</td>\n",
       "      <td>97</td>\n",
       "      <td>Good</td>\n",
       "      <td>0</td>\n",
       "      <td>0</td>\n",
       "      <td>0.06</td>\n",
       "      <td>0</td>\n",
       "    </tr>\n",
       "  </tbody>\n",
       "</table>\n",
       "</div>"
      ],
      "text/plain": [
       "       ip_address device_type browser operating_system  click_duration  \\\n",
       "0    141.36.49.37      Tablet  Safari          Android            0.29   \n",
       "1   216.29.19.201     Desktop   Opera              iOS            0.64   \n",
       "2  167.133.41.231      Tablet  Safari            Linux            0.42   \n",
       "3   216.146.33.78      Tablet    Edge            macOS            4.29   \n",
       "4   146.37.54.245     Desktop   Opera          Windows            2.46   \n",
       "\n",
       "   scroll_depth  mouse_movement  keystrokes_detected  click_frequency  \\\n",
       "0            60             111                    8                7   \n",
       "1            25             452                   29                9   \n",
       "2            36             431                   18                9   \n",
       "3            29             472                   37                4   \n",
       "4            94              50                    2                7   \n",
       "\n",
       "   time_since_last_click device_ip_reputation  VPN_usage  proxy_usage  \\\n",
       "0                     72                 Good          0            1   \n",
       "1                    201           Suspicious          0            0   \n",
       "2                    326                 Good          0            1   \n",
       "3                     33           Suspicious          0            0   \n",
       "4                     97                 Good          0            0   \n",
       "\n",
       "   bot_likelihood_score  is_fraudulent  \n",
       "0                  0.29              0  \n",
       "1                  0.74              0  \n",
       "2                  0.14              0  \n",
       "3                  0.65              0  \n",
       "4                  0.06              0  "
      ]
     },
     "execution_count": 5,
     "metadata": {},
     "output_type": "execute_result"
    }
   ],
   "source": [
    "# Remove IDs, timestamps, and URLs (not useful for training)\n",
    "drop_cols = [\n",
    "    \"click_id\", \"timestamp\", \"user_id\", \"referrer_url\", \"page_url\", \"ad_position\"\n",
    "]\n",
    "df = df.drop(columns=drop_cols)\n",
    "\n",
    "df.head()\n"
   ]
  },
  {
   "cell_type": "markdown",
   "id": "afbdde4f",
   "metadata": {},
   "source": [
    "Select useful features + target"
   ]
  },
  {
   "cell_type": "code",
   "execution_count": 7,
   "id": "966e11ed",
   "metadata": {},
   "outputs": [
    {
     "data": {
      "text/html": [
       "<div>\n",
       "<style scoped>\n",
       "    .dataframe tbody tr th:only-of-type {\n",
       "        vertical-align: middle;\n",
       "    }\n",
       "\n",
       "    .dataframe tbody tr th {\n",
       "        vertical-align: top;\n",
       "    }\n",
       "\n",
       "    .dataframe thead th {\n",
       "        text-align: right;\n",
       "    }\n",
       "</style>\n",
       "<table border=\"1\" class=\"dataframe\">\n",
       "  <thead>\n",
       "    <tr style=\"text-align: right;\">\n",
       "      <th></th>\n",
       "      <th>click_duration</th>\n",
       "      <th>mouse_movement</th>\n",
       "      <th>keystrokes_detected</th>\n",
       "      <th>device_type</th>\n",
       "      <th>browser</th>\n",
       "      <th>operating_system</th>\n",
       "      <th>ip_address</th>\n",
       "      <th>VPN_usage</th>\n",
       "      <th>proxy_usage</th>\n",
       "      <th>device_ip_reputation</th>\n",
       "      <th>is_fraudulent</th>\n",
       "    </tr>\n",
       "  </thead>\n",
       "  <tbody>\n",
       "    <tr>\n",
       "      <th>0</th>\n",
       "      <td>0.29</td>\n",
       "      <td>111</td>\n",
       "      <td>8</td>\n",
       "      <td>Tablet</td>\n",
       "      <td>Safari</td>\n",
       "      <td>Android</td>\n",
       "      <td>141.36.49.37</td>\n",
       "      <td>0</td>\n",
       "      <td>1</td>\n",
       "      <td>Good</td>\n",
       "      <td>0</td>\n",
       "    </tr>\n",
       "    <tr>\n",
       "      <th>1</th>\n",
       "      <td>0.64</td>\n",
       "      <td>452</td>\n",
       "      <td>29</td>\n",
       "      <td>Desktop</td>\n",
       "      <td>Opera</td>\n",
       "      <td>iOS</td>\n",
       "      <td>216.29.19.201</td>\n",
       "      <td>0</td>\n",
       "      <td>0</td>\n",
       "      <td>Suspicious</td>\n",
       "      <td>0</td>\n",
       "    </tr>\n",
       "    <tr>\n",
       "      <th>2</th>\n",
       "      <td>0.42</td>\n",
       "      <td>431</td>\n",
       "      <td>18</td>\n",
       "      <td>Tablet</td>\n",
       "      <td>Safari</td>\n",
       "      <td>Linux</td>\n",
       "      <td>167.133.41.231</td>\n",
       "      <td>0</td>\n",
       "      <td>1</td>\n",
       "      <td>Good</td>\n",
       "      <td>0</td>\n",
       "    </tr>\n",
       "    <tr>\n",
       "      <th>3</th>\n",
       "      <td>4.29</td>\n",
       "      <td>472</td>\n",
       "      <td>37</td>\n",
       "      <td>Tablet</td>\n",
       "      <td>Edge</td>\n",
       "      <td>macOS</td>\n",
       "      <td>216.146.33.78</td>\n",
       "      <td>0</td>\n",
       "      <td>0</td>\n",
       "      <td>Suspicious</td>\n",
       "      <td>0</td>\n",
       "    </tr>\n",
       "    <tr>\n",
       "      <th>4</th>\n",
       "      <td>2.46</td>\n",
       "      <td>50</td>\n",
       "      <td>2</td>\n",
       "      <td>Desktop</td>\n",
       "      <td>Opera</td>\n",
       "      <td>Windows</td>\n",
       "      <td>146.37.54.245</td>\n",
       "      <td>0</td>\n",
       "      <td>0</td>\n",
       "      <td>Good</td>\n",
       "      <td>0</td>\n",
       "    </tr>\n",
       "  </tbody>\n",
       "</table>\n",
       "</div>"
      ],
      "text/plain": [
       "   click_duration  mouse_movement  keystrokes_detected device_type browser  \\\n",
       "0            0.29             111                    8      Tablet  Safari   \n",
       "1            0.64             452                   29     Desktop   Opera   \n",
       "2            0.42             431                   18      Tablet  Safari   \n",
       "3            4.29             472                   37      Tablet    Edge   \n",
       "4            2.46              50                    2     Desktop   Opera   \n",
       "\n",
       "  operating_system      ip_address  VPN_usage  proxy_usage  \\\n",
       "0          Android    141.36.49.37          0            1   \n",
       "1              iOS   216.29.19.201          0            0   \n",
       "2            Linux  167.133.41.231          0            1   \n",
       "3            macOS   216.146.33.78          0            0   \n",
       "4          Windows   146.37.54.245          0            0   \n",
       "\n",
       "  device_ip_reputation  is_fraudulent  \n",
       "0                 Good              0  \n",
       "1           Suspicious              0  \n",
       "2                 Good              0  \n",
       "3           Suspicious              0  \n",
       "4                 Good              0  "
      ]
     },
     "execution_count": 7,
     "metadata": {},
     "output_type": "execute_result"
    }
   ],
   "source": [
    "# Keep only the aligned features\n",
    "useful_cols = [\n",
    "    \"click_duration\",         # proxy for time per question\n",
    "    \"mouse_movement\",         # mouse activity\n",
    "    \"keystrokes_detected\",    # keystrokes dynamics\n",
    "    \"device_type\",            # device info\n",
    "    \"browser\",                # browser info\n",
    "    \"operating_system\",       # OS info\n",
    "    \"ip_address\",             # for anomaly detection\n",
    "    \"VPN_usage\",              # VPN flag\n",
    "    \"proxy_usage\",            # proxy flag\n",
    "    \"device_ip_reputation\",   # IP reputation\n",
    "    \"is_fraudulent\"           # target variable\n",
    "]\n",
    "\n",
    "df = df[useful_cols]\n",
    "df.head()\n"
   ]
  },
  {
   "cell_type": "markdown",
   "id": "c0f8aaa9",
   "metadata": {},
   "source": [
    "Encode categorical features"
   ]
  },
  {
   "cell_type": "code",
   "execution_count": 8,
   "id": "7aad179b",
   "metadata": {},
   "outputs": [
    {
     "data": {
      "text/html": [
       "<div>\n",
       "<style scoped>\n",
       "    .dataframe tbody tr th:only-of-type {\n",
       "        vertical-align: middle;\n",
       "    }\n",
       "\n",
       "    .dataframe tbody tr th {\n",
       "        vertical-align: top;\n",
       "    }\n",
       "\n",
       "    .dataframe thead th {\n",
       "        text-align: right;\n",
       "    }\n",
       "</style>\n",
       "<table border=\"1\" class=\"dataframe\">\n",
       "  <thead>\n",
       "    <tr style=\"text-align: right;\">\n",
       "      <th></th>\n",
       "      <th>click_duration</th>\n",
       "      <th>mouse_movement</th>\n",
       "      <th>keystrokes_detected</th>\n",
       "      <th>device_type</th>\n",
       "      <th>browser</th>\n",
       "      <th>operating_system</th>\n",
       "      <th>ip_address</th>\n",
       "      <th>VPN_usage</th>\n",
       "      <th>proxy_usage</th>\n",
       "      <th>device_ip_reputation</th>\n",
       "      <th>is_fraudulent</th>\n",
       "    </tr>\n",
       "  </thead>\n",
       "  <tbody>\n",
       "    <tr>\n",
       "      <th>0</th>\n",
       "      <td>0.29</td>\n",
       "      <td>111</td>\n",
       "      <td>8</td>\n",
       "      <td>2</td>\n",
       "      <td>4</td>\n",
       "      <td>0</td>\n",
       "      <td>1037</td>\n",
       "      <td>0</td>\n",
       "      <td>1</td>\n",
       "      <td>1</td>\n",
       "      <td>0</td>\n",
       "    </tr>\n",
       "    <tr>\n",
       "      <th>1</th>\n",
       "      <td>0.64</td>\n",
       "      <td>452</td>\n",
       "      <td>29</td>\n",
       "      <td>0</td>\n",
       "      <td>3</td>\n",
       "      <td>3</td>\n",
       "      <td>2928</td>\n",
       "      <td>0</td>\n",
       "      <td>0</td>\n",
       "      <td>2</td>\n",
       "      <td>0</td>\n",
       "    </tr>\n",
       "    <tr>\n",
       "      <th>2</th>\n",
       "      <td>0.42</td>\n",
       "      <td>431</td>\n",
       "      <td>18</td>\n",
       "      <td>2</td>\n",
       "      <td>4</td>\n",
       "      <td>1</td>\n",
       "      <td>1683</td>\n",
       "      <td>0</td>\n",
       "      <td>1</td>\n",
       "      <td>1</td>\n",
       "      <td>0</td>\n",
       "    </tr>\n",
       "    <tr>\n",
       "      <th>3</th>\n",
       "      <td>4.29</td>\n",
       "      <td>472</td>\n",
       "      <td>37</td>\n",
       "      <td>2</td>\n",
       "      <td>1</td>\n",
       "      <td>4</td>\n",
       "      <td>2920</td>\n",
       "      <td>0</td>\n",
       "      <td>0</td>\n",
       "      <td>2</td>\n",
       "      <td>0</td>\n",
       "    </tr>\n",
       "    <tr>\n",
       "      <th>4</th>\n",
       "      <td>2.46</td>\n",
       "      <td>50</td>\n",
       "      <td>2</td>\n",
       "      <td>0</td>\n",
       "      <td>3</td>\n",
       "      <td>2</td>\n",
       "      <td>1167</td>\n",
       "      <td>0</td>\n",
       "      <td>0</td>\n",
       "      <td>1</td>\n",
       "      <td>0</td>\n",
       "    </tr>\n",
       "  </tbody>\n",
       "</table>\n",
       "</div>"
      ],
      "text/plain": [
       "   click_duration  mouse_movement  keystrokes_detected  device_type  browser  \\\n",
       "0            0.29             111                    8            2        4   \n",
       "1            0.64             452                   29            0        3   \n",
       "2            0.42             431                   18            2        4   \n",
       "3            4.29             472                   37            2        1   \n",
       "4            2.46              50                    2            0        3   \n",
       "\n",
       "   operating_system  ip_address  VPN_usage  proxy_usage  device_ip_reputation  \\\n",
       "0                 0        1037          0            1                     1   \n",
       "1                 3        2928          0            0                     2   \n",
       "2                 1        1683          0            1                     1   \n",
       "3                 4        2920          0            0                     2   \n",
       "4                 2        1167          0            0                     1   \n",
       "\n",
       "   is_fraudulent  \n",
       "0              0  \n",
       "1              0  \n",
       "2              0  \n",
       "3              0  \n",
       "4              0  "
      ]
     },
     "execution_count": 8,
     "metadata": {},
     "output_type": "execute_result"
    }
   ],
   "source": [
    "from sklearn.preprocessing import LabelEncoder\n",
    "\n",
    "# Encode categorical columns\n",
    "label_encoders = {}\n",
    "for col in [\"device_type\", \"browser\", \"operating_system\", \"device_ip_reputation\", \"ip_address\"]:\n",
    "    le = LabelEncoder()\n",
    "    df[col] = le.fit_transform(df[col])\n",
    "    label_encoders[col] = le\n",
    "\n",
    "df.head()\n"
   ]
  },
  {
   "cell_type": "markdown",
   "id": "16d9eb22",
   "metadata": {},
   "source": [
    "Split into Features (X) and Target (y)"
   ]
  },
  {
   "cell_type": "code",
   "execution_count": 21,
   "id": "c63f1b4f",
   "metadata": {},
   "outputs": [],
   "source": [
    "# Separate features and target\n",
    "x = df.drop(columns=[\"is_fraudulent\"])\n",
    "y = df[\"is_fraudulent\"]\n",
    "\n"
   ]
  },
  {
   "cell_type": "markdown",
   "id": "9d2c9f2b",
   "metadata": {},
   "source": [
    "Scale numerical features"
   ]
  },
  {
   "cell_type": "code",
   "execution_count": 22,
   "id": "120e7692",
   "metadata": {},
   "outputs": [
    {
     "data": {
      "text/html": [
       "<div>\n",
       "<style scoped>\n",
       "    .dataframe tbody tr th:only-of-type {\n",
       "        vertical-align: middle;\n",
       "    }\n",
       "\n",
       "    .dataframe tbody tr th {\n",
       "        vertical-align: top;\n",
       "    }\n",
       "\n",
       "    .dataframe thead th {\n",
       "        text-align: right;\n",
       "    }\n",
       "</style>\n",
       "<table border=\"1\" class=\"dataframe\">\n",
       "  <thead>\n",
       "    <tr style=\"text-align: right;\">\n",
       "      <th></th>\n",
       "      <th>click_duration</th>\n",
       "      <th>mouse_movement</th>\n",
       "      <th>keystrokes_detected</th>\n",
       "      <th>device_type</th>\n",
       "      <th>browser</th>\n",
       "      <th>operating_system</th>\n",
       "      <th>ip_address</th>\n",
       "      <th>VPN_usage</th>\n",
       "      <th>proxy_usage</th>\n",
       "      <th>device_ip_reputation</th>\n",
       "    </tr>\n",
       "  </thead>\n",
       "  <tbody>\n",
       "    <tr>\n",
       "      <th>0</th>\n",
       "      <td>-0.866694</td>\n",
       "      <td>-0.956623</td>\n",
       "      <td>-1.167139</td>\n",
       "      <td>2</td>\n",
       "      <td>4</td>\n",
       "      <td>0</td>\n",
       "      <td>1037</td>\n",
       "      <td>0</td>\n",
       "      <td>1</td>\n",
       "      <td>1</td>\n",
       "    </tr>\n",
       "    <tr>\n",
       "      <th>1</th>\n",
       "      <td>-0.689967</td>\n",
       "      <td>1.381681</td>\n",
       "      <td>0.298029</td>\n",
       "      <td>0</td>\n",
       "      <td>3</td>\n",
       "      <td>3</td>\n",
       "      <td>2928</td>\n",
       "      <td>0</td>\n",
       "      <td>0</td>\n",
       "      <td>2</td>\n",
       "    </tr>\n",
       "    <tr>\n",
       "      <th>2</th>\n",
       "      <td>-0.801053</td>\n",
       "      <td>1.237680</td>\n",
       "      <td>-0.469440</td>\n",
       "      <td>2</td>\n",
       "      <td>4</td>\n",
       "      <td>1</td>\n",
       "      <td>1683</td>\n",
       "      <td>0</td>\n",
       "      <td>1</td>\n",
       "      <td>1</td>\n",
       "    </tr>\n",
       "    <tr>\n",
       "      <th>3</th>\n",
       "      <td>1.153050</td>\n",
       "      <td>1.518825</td>\n",
       "      <td>0.856189</td>\n",
       "      <td>2</td>\n",
       "      <td>1</td>\n",
       "      <td>4</td>\n",
       "      <td>2920</td>\n",
       "      <td>0</td>\n",
       "      <td>0</td>\n",
       "      <td>2</td>\n",
       "    </tr>\n",
       "    <tr>\n",
       "      <th>4</th>\n",
       "      <td>0.229017</td>\n",
       "      <td>-1.374912</td>\n",
       "      <td>-1.585759</td>\n",
       "      <td>0</td>\n",
       "      <td>3</td>\n",
       "      <td>2</td>\n",
       "      <td>1167</td>\n",
       "      <td>0</td>\n",
       "      <td>0</td>\n",
       "      <td>1</td>\n",
       "    </tr>\n",
       "  </tbody>\n",
       "</table>\n",
       "</div>"
      ],
      "text/plain": [
       "   click_duration  mouse_movement  keystrokes_detected  device_type  browser  \\\n",
       "0       -0.866694       -0.956623            -1.167139            2        4   \n",
       "1       -0.689967        1.381681             0.298029            0        3   \n",
       "2       -0.801053        1.237680            -0.469440            2        4   \n",
       "3        1.153050        1.518825             0.856189            2        1   \n",
       "4        0.229017       -1.374912            -1.585759            0        3   \n",
       "\n",
       "   operating_system  ip_address  VPN_usage  proxy_usage  device_ip_reputation  \n",
       "0                 0        1037          0            1                     1  \n",
       "1                 3        2928          0            0                     2  \n",
       "2                 1        1683          0            1                     1  \n",
       "3                 4        2920          0            0                     2  \n",
       "4                 2        1167          0            0                     1  "
      ]
     },
     "execution_count": 22,
     "metadata": {},
     "output_type": "execute_result"
    }
   ],
   "source": [
    "from sklearn.preprocessing import StandardScaler\n",
    "\n",
    "# Initialize scaler\n",
    "scaler = StandardScaler()\n",
    "\n",
    "# Select only numerical columns to scale\n",
    "numeric_cols = [\"click_duration\", \"mouse_movement\", \"keystrokes_detected\"]\n",
    "\n",
    "x[numeric_cols] = scaler.fit_transform(x[numeric_cols])\n",
    "\n",
    "x.head()\n"
   ]
  },
  {
   "cell_type": "markdown",
   "id": "402387d8",
   "metadata": {},
   "source": [
    "### Divide Dataset"
   ]
  },
  {
   "cell_type": "code",
   "execution_count": 27,
   "id": "9ae17d40",
   "metadata": {},
   "outputs": [],
   "source": [
    "from sklearn.model_selection import train_test_split\n",
    "\n",
    "# Train/Test split (80/20) with stratification\n",
    "x_train, x_test, y_train, y_test = train_test_split(\n",
    "    x, y, test_size=0.2, stratify=y, random_state=42\n",
    ")"
   ]
  },
  {
   "cell_type": "code",
   "execution_count": 29,
   "id": "73557941",
   "metadata": {},
   "outputs": [
    {
     "data": {
      "text/plain": [
       "is_fraudulent\n",
       "0    3007\n",
       "1     993\n",
       "Name: count, dtype: int64"
      ]
     },
     "execution_count": 29,
     "metadata": {},
     "output_type": "execute_result"
    }
   ],
   "source": [
    "y_train.value_counts()"
   ]
  },
  {
   "cell_type": "code",
   "execution_count": 30,
   "id": "683a802f",
   "metadata": {},
   "outputs": [
    {
     "data": {
      "image/png": "[encoded data removed]",
      "text/plain": [
       "<Figure size 640x480 with 1 Axes>"
      ]
     },
     "metadata": {},
     "output_type": "display_data"
    }
   ],
   "source": [
    "plt.pie(y_train.value_counts(), labels=['Legitimate', 'Fraudulent'], autopct='%1.1f%%', colors=['#66b3ff','#ff9999'])\n",
    "plt.title('Class Distribution in Training Set')\n",
    "plt.show()"
   ]
  },
  {
   "cell_type": "markdown",
   "id": "5a7fdd5a",
   "metadata": {},
   "source": [
    "### Handle Imbalanced Dataset"
   ]
  },
  {
   "cell_type": "code",
   "execution_count": 32,
   "id": "82d993cd",
   "metadata": {},
   "outputs": [
    {
     "name": "stdout",
     "output_type": "stream",
     "text": [
      "Collecting imbalanced-learn\n",
      "  Downloading imbalanced_learn-0.12.4-py3-none-any.whl (258 kB)\n",
      "Requirement already satisfied: scikit-learn>=1.0.2 in c:\\users\\dell\\miniconda3\\lib\\site-packages (from imbalanced-learn) (1.6.1)\n",
      "Requirement already satisfied: joblib>=1.1.1 in c:\\users\\dell\\miniconda3\\lib\\site-packages (from imbalanced-learn) (1.5.1)\n",
      "Requirement already satisfied: threadpoolctl>=2.0.0 in c:\\users\\dell\\miniconda3\\lib\\site-packages (from imbalanced-learn) (3.6.0)\n",
      "Requirement already satisfied: scipy>=1.5.0 in c:\\users\\dell\\miniconda3\\lib\\site-packages (from imbalanced-learn) (1.13.1)\n",
      "Requirement already satisfied: numpy>=1.17.3 in c:\\users\\dell\\miniconda3\\lib\\site-packages (from imbalanced-learn) (2.0.2)\n",
      "Installing collected packages: imbalanced-learn\n",
      "Successfully installed imbalanced-learn-0.12.4\n"
     ]
    }
   ],
   "source": [
    "!pip install imbalanced-learn"
   ]
  },
  {
   "cell_type": "code",
   "execution_count": 34,
   "id": "856b4c49",
   "metadata": {},
   "outputs": [
    {
     "name": "stdout",
     "output_type": "stream",
     "text": [
      "(6014, 10) (6014,)\n"
     ]
    }
   ],
   "source": [
    "from imblearn.over_sampling import SMOTE\n",
    "\n",
    "# Apply SMOTE to the training data\n",
    "smote = SMOTE()\n",
    "x_train_smote, y_train_smote = smote.fit_resample(x_train, y_train)\n",
    "print(x_train_smote.shape, y_train_smote.shape)"
   ]
  },
  {
   "cell_type": "code",
   "execution_count": 36,
   "id": "ead23205",
   "metadata": {},
   "outputs": [
    {
     "data": {
      "text/plain": [
       "is_fraudulent\n",
       "1    3007\n",
       "0    3007\n",
       "Name: count, dtype: int64"
      ]
     },
     "execution_count": 36,
     "metadata": {},
     "output_type": "execute_result"
    }
   ],
   "source": [
    "y_train_smote.value_counts()"
   ]
  },
  {
   "cell_type": "code",
   "execution_count": 37,
   "id": "5864f448",
   "metadata": {},
   "outputs": [
    {
     "data": {
      "image/png": "[encoded data removed]",
      "text/plain": [
       "<Figure size 640x480 with 1 Axes>"
      ]
     },
     "metadata": {},
     "output_type": "display_data"
    }
   ],
   "source": [
    "plt.pie(y_train_smote.value_counts(), labels=['Legitimate', 'Fraudulent'], autopct='%1.1f%%', colors=['#66b3ff','#ff9999'])\n",
    "plt.title('Class Distribution in Training Set After SMOTE')\n",
    "plt.show()"
   ]
  },
  {
   "cell_type": "markdown",
   "id": "c6dbb917",
   "metadata": {},
   "source": [
    "### Supervised Model Training and Evaluation"
   ]
  },
  {
   "cell_type": "code",
   "execution_count": 39,
   "id": "46ec39dc",
   "metadata": {},
   "outputs": [
    {
     "name": "stdout",
     "output_type": "stream",
     "text": [
      "Collecting xgboost\n",
      "  Downloading xgboost-2.1.4-py3-none-win_amd64.whl (124.9 MB)\n",
      "Requirement already satisfied: scipy in c:\\users\\dell\\miniconda3\\lib\\site-packages (from xgboost) (1.13.1)\n",
      "Requirement already satisfied: numpy in c:\\users\\dell\\miniconda3\\lib\\site-packages (from xgboost) (2.0.2)\n",
      "Installing collected packages: xgboost\n",
      "Successfully installed xgboost-2.1.4\n"
     ]
    }
   ],
   "source": [
    "!pip install xgboost"
   ]
  },
  {
   "cell_type": "code",
   "execution_count": 59,
   "id": "02714fbd",
   "metadata": {},
   "outputs": [],
   "source": [
    "from sklearn.svm import SVC\n",
    "from sklearn.ensemble import RandomForestClassifier\n",
    "from sklearn.tree import DecisionTreeClassifier\n",
    "from sklearn.linear_model import LogisticRegression\n",
    "from xgboost import XGBClassifier"
   ]
  },
  {
   "cell_type": "markdown",
   "id": "521b2744",
   "metadata": {},
   "source": [
    "Evaluation Function"
   ]
  },
  {
   "cell_type": "code",
   "execution_count": 60,
   "id": "98d4d0b5",
   "metadata": {},
   "outputs": [],
   "source": [
    "from sklearn.metrics import accuracy_score, precision_score, recall_score, f1_score\n",
    "\n",
    "def training_scores(y_act, y_pred):\n",
    "    acc = round(accuracy_score(y_act, y_pred), 3)\n",
    "    prec = round(precision_score(y_act, y_pred), 3)\n",
    "    rec = round(recall_score(y_act, y_pred), 3)\n",
    "    f1 = round(f1_score(y_act, y_pred), 3)\n",
    "    print(f'Training Scores:\\n\\tAccuracy: {acc}\\n\\tPrecision: {prec}\\n\\tRecall: {rec}\\n\\tF1-Score: {f1}')\n",
    "\n",
    "def validation_scores(y_act, y_pred):\n",
    "    acc = round(accuracy_score(y_act, y_pred), 3)\n",
    "    prec = round(precision_score(y_act, y_pred), 3)\n",
    "    rec = round(recall_score(y_act, y_pred), 3)\n",
    "    f1 = round(f1_score(y_act, y_pred), 3)\n",
    "    print(f'Testing Scores:\\n\\tAccuracy: {acc}\\n\\tPrecision: {prec}\\n\\tRecall: {rec}\\n\\tF1-Score: {f1}')\n"
   ]
  },
  {
   "cell_type": "markdown",
   "id": "a86be349",
   "metadata": {},
   "source": [
    "#### Logistic Regression"
   ]
  },
  {
   "cell_type": "code",
   "execution_count": 61,
   "id": "cf78990a",
   "metadata": {},
   "outputs": [
    {
     "name": "stdout",
     "output_type": "stream",
     "text": [
      "Training Scores:\n",
      "\tAccuracy: 0.641\n",
      "\tPrecision: 0.623\n",
      "\tRecall: 0.713\n",
      "\tF1-Score: 0.665\n",
      "Testing Scores:\n",
      "\tAccuracy: 0.52\n",
      "\tPrecision: 0.246\n",
      "\tRecall: 0.452\n",
      "\tF1-Score: 0.318\n"
     ]
    }
   ],
   "source": [
    "lr = LogisticRegression()\n",
    "lr.fit(x_train_smote, y_train_smote)\n",
    "\n",
    "y_train_pred = lr.predict(x_train_smote)\n",
    "\n",
    "y_test_pred = lr.predict(x_test)\n",
    "\n",
    "training_scores(y_train_smote, y_train_pred)\n",
    "\n",
    "validation_scores(y_test, y_test_pred)"
   ]
  },
  {
   "cell_type": "markdown",
   "id": "3fefd183",
   "metadata": {},
   "source": [
    "#### Decision Tree"
   ]
  },
  {
   "cell_type": "code",
   "execution_count": 62,
   "id": "9b1773b8",
   "metadata": {},
   "outputs": [
    {
     "name": "stdout",
     "output_type": "stream",
     "text": [
      "Training Scores:\n",
      "\tAccuracy: 1.0\n",
      "\tPrecision: 1.0\n",
      "\tRecall: 1.0\n",
      "\tF1-Score: 1.0\n",
      "Testing Scores:\n",
      "\tAccuracy: 0.576\n",
      "\tPrecision: 0.254\n",
      "\tRecall: 0.367\n",
      "\tF1-Score: 0.3\n"
     ]
    }
   ],
   "source": [
    "dt = DecisionTreeClassifier()\n",
    "dt.fit(x_train_smote, y_train_smote)\n",
    "\n",
    "y_train_pred = dt.predict(x_train_smote)\n",
    "\n",
    "y_test_pred = dt.predict(x_test)\n",
    "\n",
    "training_scores(y_train_smote, y_train_pred)\n",
    "\n",
    "validation_scores(y_test, y_test_pred)"
   ]
  },
  {
   "cell_type": "markdown",
   "id": "d52c141c",
   "metadata": {},
   "source": [
    "#### Random Forest"
   ]
  },
  {
   "cell_type": "code",
   "execution_count": 63,
   "id": "2025e12a",
   "metadata": {},
   "outputs": [
    {
     "name": "stdout",
     "output_type": "stream",
     "text": [
      "Training Scores:\n",
      "\tAccuracy: 1.0\n",
      "\tPrecision: 1.0\n",
      "\tRecall: 1.0\n",
      "\tF1-Score: 1.0\n",
      "Testing Scores:\n",
      "\tAccuracy: 0.606\n",
      "\tPrecision: 0.234\n",
      "\tRecall: 0.258\n",
      "\tF1-Score: 0.245\n"
     ]
    }
   ],
   "source": [
    "rf = RandomForestClassifier()\n",
    "rf.fit(x_train_smote, y_train_smote)\n",
    "\n",
    "y_train_pred = rf.predict(x_train_smote)\n",
    "\n",
    "y_test_pred = rf.predict(x_test)\n",
    "\n",
    "training_scores(y_train_smote, y_train_pred)\n",
    "\n",
    "validation_scores(y_test, y_test_pred)"
   ]
  },
  {
   "cell_type": "markdown",
   "id": "9f5488e1",
   "metadata": {},
   "source": [
    "#### SVM"
   ]
  },
  {
   "cell_type": "code",
   "execution_count": 64,
   "id": "6ec97606",
   "metadata": {},
   "outputs": [
    {
     "name": "stdout",
     "output_type": "stream",
     "text": [
      "Training Scores:\n",
      "\tAccuracy: 0.526\n",
      "\tPrecision: 0.524\n",
      "\tRecall: 0.571\n",
      "\tF1-Score: 0.546\n",
      "Testing Scores:\n",
      "\tAccuracy: 0.521\n",
      "\tPrecision: 0.28\n",
      "\tRecall: 0.593\n",
      "\tF1-Score: 0.38\n"
     ]
    }
   ],
   "source": [
    "svc = SVC()\n",
    "svc.fit(x_train_smote, y_train_smote)\n",
    "\n",
    "y_train_pred = svc.predict(x_train_smote)\n",
    "\n",
    "y_test_pred = svc.predict(x_test)\n",
    "\n",
    "training_scores(y_train_smote, y_train_pred)\n",
    "\n",
    "validation_scores(y_test, y_test_pred)"
   ]
  },
  {
   "cell_type": "markdown",
   "id": "dc1d3b66",
   "metadata": {},
   "source": [
    "#### XGBoost"
   ]
  },
  {
   "cell_type": "code",
   "execution_count": 65,
   "id": "57bf22bf",
   "metadata": {},
   "outputs": [
    {
     "name": "stdout",
     "output_type": "stream",
     "text": [
      "Training Scores:\n",
      "\tAccuracy: 0.951\n",
      "\tPrecision: 0.956\n",
      "\tRecall: 0.945\n",
      "\tF1-Score: 0.951\n",
      "Testing Scores:\n",
      "\tAccuracy: 0.639\n",
      "\tPrecision: 0.258\n",
      "\tRecall: 0.242\n",
      "\tF1-Score: 0.249\n"
     ]
    }
   ],
   "source": [
    "xgb = XGBClassifier()\n",
    "xgb.fit(x_train_smote, y_train_smote)\n",
    "\n",
    "y_train_pred = xgb.predict(x_train_smote)\n",
    "\n",
    "y_test_pred = xgb.predict(x_test)\n",
    "\n",
    "training_scores(y_train_smote, y_train_pred)\n",
    "\n",
    "validation_scores(y_test, y_test_pred)"
   ]
  }
 ],
 "metadata": {
  "kernelspec": {
   "display_name": "base",
   "language": "python",
   "name": "python3"
  },
  "language_info": {
   "codemirror_mode": {
    "name": "ipython",
    "version": 3
   },
   "file_extension": ".py",
   "mimetype": "text/x-python",
   "name": "python",
   "nbconvert_exporter": "python",
   "pygments_lexer": "ipython3",
   "version": "3.9.12"
  }
 },
 "nbformat": 4,
 "nbformat_minor": 5
}
